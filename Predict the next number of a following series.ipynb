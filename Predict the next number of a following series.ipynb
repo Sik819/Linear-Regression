{
 "cells": [
  {
   "cell_type": "markdown",
   "metadata": {},
   "source": [
    "# Linear Regression Model to predict the next number of a series"
   ]
  },
  {
   "cell_type": "markdown",
   "metadata": {},
   "source": [
    "Importing necessary Libraries and models"
   ]
  },
  {
   "cell_type": "code",
   "execution_count": 1,
   "metadata": {},
   "outputs": [],
   "source": [
    "import numpy as np\n",
    "from sklearn.linear_model import LinearRegression"
   ]
  },
  {
   "cell_type": "code",
   "execution_count": 2,
   "metadata": {},
   "outputs": [],
   "source": [
    "series = [25, 36, 45, 54, 72, 83]"
   ]
  },
  {
   "cell_type": "markdown",
   "metadata": {},
   "source": [
    "Define the X and y values"
   ]
  },
  {
   "cell_type": "code",
   "execution_count": 3,
   "metadata": {},
   "outputs": [
    {
     "name": "stdout",
     "output_type": "stream",
     "text": [
      "X=\n",
      "[[25], [36], [45], [54], [72]]\n",
      "y=\n",
      "[[36], [45], [54], [72], [83]]\n"
     ]
    }
   ],
   "source": [
    "X=[]\n",
    "y=[]\n",
    "for i in range(0,len(series)-1):\n",
    "    X += [series[i]],\n",
    "    y += [series[i+1]],\n",
    "print(\"X=\")\n",
    "print(X)\n",
    "print(\"y=\")\n",
    "print(y)"
   ]
  },
  {
   "cell_type": "markdown",
   "metadata": {},
   "source": [
    "Initialise the linear regression model "
   ]
  },
  {
   "cell_type": "code",
   "execution_count": 5,
   "metadata": {},
   "outputs": [
    {
     "data": {
      "text/plain": [
       "LinearRegression(copy_X=True, fit_intercept=True, n_jobs=None, normalize=False)"
      ]
     },
     "execution_count": 5,
     "metadata": {},
     "output_type": "execute_result"
    }
   ],
   "source": [
    "nextX= [83]\n",
    "nextX= np.array(nextX).reshape(-1,1)\n",
    "regression = LinearRegression()\n",
    "regression.fit(X,y)"
   ]
  },
  {
   "cell_type": "markdown",
   "metadata": {},
   "source": [
    "Predict the next number of the series"
   ]
  },
  {
   "cell_type": "code",
   "execution_count": 6,
   "metadata": {},
   "outputs": [
    {
     "name": "stdout",
     "output_type": "stream",
     "text": [
      "Next y:\n",
      " [[96.79394318]]\n",
      "slope (m):  [[1.0599438]]\n",
      "y-intercept (c):  [8.81860756]\n"
     ]
    }
   ],
   "source": [
    "nextY= regression.predict(nextX)\n",
    "m= regression.coef_\n",
    "c= regression.intercept_\n",
    "print(\"Next y:\\n\",nextY)\n",
    "print(\"slope (m): \",m)\n",
    "print(\"y-intercept (c): \",c)"
   ]
  },
  {
   "cell_type": "markdown",
   "metadata": {},
   "source": [
    "plot scatter linear regression graph"
   ]
  },
  {
   "cell_type": "code",
   "execution_count": 7,
   "metadata": {},
   "outputs": [
    {
     "data": {
      "text/plain": [
       "<Figure size 640x480 with 1 Axes>"
      ]
     },
     "metadata": {},
     "output_type": "display_data"
    }
   ],
   "source": [
    "import matplotlib.pyplot as plt\n",
    "y_vals = [ m*i+c for i in np.append(X,nextX)]\n",
    "x_vals = np.append(X,nextX)\n",
    "y_vals = np.array(y_vals).reshape(-1,1)\n",
    "plt.ylabel('Following Number')\n",
    "plt.xlabel('Number in the series')\n",
    "plt.title('Predicting the next number of the sequence')\n",
    "plt.scatter(X,y,color=\"blue\")\n",
    "plt.plot(np.append(X,nextX),y_vals,color=\"red\")\n",
    "plt.show()"
   ]
  },
  {
   "cell_type": "code",
   "execution_count": null,
   "metadata": {},
   "outputs": [],
   "source": []
  }
 ],
 "metadata": {
  "kernelspec": {
   "display_name": "Python 3",
   "language": "python",
   "name": "python3"
  },
  "language_info": {
   "codemirror_mode": {
    "name": "ipython",
    "version": 3
   },
   "file_extension": ".py",
   "mimetype": "text/x-python",
   "name": "python",
   "nbconvert_exporter": "python",
   "pygments_lexer": "ipython3",
   "version": "3.7.3"
  }
 },
 "nbformat": 4,
 "nbformat_minor": 2
}
